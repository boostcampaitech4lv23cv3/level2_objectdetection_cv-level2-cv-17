{
 "cells": [
  {
   "cell_type": "markdown",
   "metadata": {
    "id": "vNIUnenUmtZP"
   },
   "source": [
    "### git repository 불러오기"
   ]
  },
  {
   "cell_type": "code",
   "execution_count": null,
   "metadata": {
    "id": "7u80nq9CmtZW",
    "outputId": "121fdc16-f2cb-4b96-fee8-9870e00d5919"
   },
   "outputs": [],
   "source": [
    "!git clone https://github.com/ultralytics/yolov3.git"
   ]
  },
  {
   "cell_type": "markdown",
   "metadata": {
    "id": "x8RmukxKmtZX"
   },
   "source": [
    "### Library 불러오기"
   ]
  },
  {
   "cell_type": "code",
   "execution_count": null,
   "metadata": {
    "id": "8upcCkAHmtZY"
   },
   "outputs": [],
   "source": [
    "import sys\n",
    "import os\n",
    "\n",
    "sys.path.append(\"./yolov3\")"
   ]
  },
  {
   "cell_type": "code",
   "execution_count": null,
   "metadata": {
    "id": "ITEeyGCymtZY"
   },
   "outputs": [],
   "source": [
    "from pycocotools.coco import COCO\n",
    "import numpy as np\n",
    "import cv2\n",
    "\n",
    "import albumentations as A\n",
    "from albumentations.pytorch import ToTensorV2\n",
    "from utils.loss import ComputeLoss\n",
    "\n",
    "import yaml\n",
    "import torch\n",
    "from models.yolo import Model\n",
    "from pycocotools.cocoeval import COCOeval\n",
    "import pandas as pd\n",
    "\n",
    "from torch.utils.data import DataLoader, Dataset\n",
    "import torchvision\n",
    "from utils.general import (\n",
    "    coco80_to_coco91_class,\n",
    "    check_dataset,\n",
    "    check_file,\n",
    "    check_img_size,\n",
    "    check_requirements,\n",
    "    box_iou,\n",
    "    non_max_suppression,\n",
    "    scale_coords,\n",
    "    xyxy2xywh,\n",
    "    xywh2xyxy,\n",
    "    set_logging,\n",
    "    increment_path,\n",
    "    colorstr,\n",
    ")\n",
    "from tqdm import tqdm"
   ]
  },
  {
   "cell_type": "markdown",
   "metadata": {
    "id": "HOH2hj7vmtZZ"
   },
   "source": [
    "### Custom 데이터셋 정의"
   ]
  },
  {
   "cell_type": "code",
   "execution_count": null,
   "metadata": {
    "id": "lnHPCV0CmtZZ"
   },
   "outputs": [],
   "source": [
    "class CustomDataset(Dataset):\n",
    "    \"\"\"\n",
    "    data_dir: data가 존재하는 폴더 경로\n",
    "    transforms: data transform (resize, crop, Totensor, etc,,,)\n",
    "    \"\"\"\n",
    "\n",
    "    def __init__(self, annotation, data_dir, transforms=None, image_size=512):\n",
    "        super().__init__()\n",
    "        self.data_dir = data_dir\n",
    "        self.coco = COCO(annotation)\n",
    "        self.image_size = image_size\n",
    "        self.predictions = {\n",
    "            \"images\": self.coco.dataset[\"images\"].copy(),\n",
    "            \"categories\": self.coco.dataset[\"categories\"].copy(),\n",
    "            \"annotations\": None,\n",
    "        }\n",
    "        self.transforms = transforms\n",
    "\n",
    "    def __getitem__(self, index: int):\n",
    "        image_id = self.coco.getImgIds(imgIds=index)\n",
    "        image_info = self.coco.loadImgs(image_id)[0]\n",
    "        image = cv2.imread(os.path.join(self.data_dir, image_info[\"file_name\"]))\n",
    "        image = cv2.cvtColor(image, cv2.COLOR_BGR2RGB).astype(np.float32)\n",
    "        image /= 255.0\n",
    "\n",
    "        ann_ids = self.coco.getAnnIds(imgIds=image_info[\"id\"])\n",
    "        anns = self.coco.loadAnns(ann_ids)\n",
    "\n",
    "        # boxes (x, y, w, h)\n",
    "        boxes = np.array([x[\"bbox\"] for x in anns])\n",
    "\n",
    "        # boxes (x_min, y_min, x_max, y_max)\n",
    "        boxes[:, 2] = boxes[:, 0] + boxes[:, 2]\n",
    "        boxes[:, 3] = boxes[:, 1] + boxes[:, 3]\n",
    "        boxes[:, 0] /= int(self.image_size)\n",
    "        boxes[:, 1] /= int(self.image_size)\n",
    "        boxes[:, 2] /= int(self.image_size)\n",
    "        boxes[:, 3] /= int(self.image_size)\n",
    "\n",
    "        labels = list([x[\"category_id\"] for x in anns])\n",
    "        areas = np.array([x[\"area\"] for x in anns])\n",
    "        areas = torch.as_tensor(areas, dtype=torch.float32)\n",
    "\n",
    "        is_crowds = np.array([x[\"iscrowd\"] for x in anns])\n",
    "        is_crowds = torch.as_tensor(is_crowds, dtype=torch.int64)\n",
    "\n",
    "        target = {\n",
    "            \"boxes\": boxes,\n",
    "            \"labels\": labels,\n",
    "            \"image_id\": torch.tensor([index]),\n",
    "            \"area\": areas,\n",
    "            \"iscrowd\": is_crowds,\n",
    "        }\n",
    "\n",
    "        # transform\n",
    "        if self.transforms:\n",
    "            sample = {\"image\": image, \"bboxes\": target[\"boxes\"], \"labels\": labels}\n",
    "            sample = self.transforms(**sample)\n",
    "            image = sample[\"image\"]\n",
    "            target[\"boxes\"] = [list(box) for box in sample[\"bboxes\"]]\n",
    "\n",
    "        result = []\n",
    "        labels_out = torch.zeros((len(labels), 6))\n",
    "        for i in range(len(labels)):\n",
    "            result.append(\n",
    "                [\n",
    "                    labels[i],\n",
    "                    target[\"boxes\"][i][0],\n",
    "                    target[\"boxes\"][i][1],\n",
    "                    target[\"boxes\"][i][2],\n",
    "                    target[\"boxes\"][i][3],\n",
    "                ]\n",
    "            )\n",
    "        result = np.array(result)\n",
    "\n",
    "        if len(labels):\n",
    "            labels_out[:, 1:] = torch.from_numpy(result)\n",
    "\n",
    "        return image, labels_out, image_id\n",
    "\n",
    "    def __len__(self) -> int:\n",
    "        return len(self.coco.getImgIds())"
   ]
  },
  {
   "cell_type": "code",
   "execution_count": null,
   "metadata": {
    "id": "J7ZWOAwGmtZb"
   },
   "outputs": [],
   "source": [
    "def get_train_transform():\n",
    "    return A.Compose(\n",
    "        [A.Resize(512, 512), A.Flip(p=0.5), ToTensorV2(p=1.0)],\n",
    "        bbox_params={\"format\": \"pascal_voc\", \"label_fields\": [\"labels\"]},\n",
    "    )\n",
    "\n",
    "\n",
    "def get_valid_transform():\n",
    "    return A.Compose(\n",
    "        [ToTensorV2(p=1.0)],\n",
    "        bbox_params={\"format\": \"pascal_voc\", \"label_fields\": [\"labels\"]},\n",
    "    )"
   ]
  },
  {
   "cell_type": "markdown",
   "metadata": {
    "id": "HIw4VMp4mtZb"
   },
   "source": [
    "### Utils"
   ]
  },
  {
   "cell_type": "code",
   "execution_count": null,
   "metadata": {
    "id": "pbQWr_rYmtZc"
   },
   "outputs": [],
   "source": [
    "class Averager:\n",
    "    def __init__(self):\n",
    "        self.current_total = 0.0\n",
    "        self.iterations = 0.0\n",
    "\n",
    "    def send(self, value):\n",
    "        self.current_total += value\n",
    "        self.iterations += 1\n",
    "\n",
    "    @property\n",
    "    def value(self):\n",
    "        if self.iterations == 0:\n",
    "            return 0\n",
    "        else:\n",
    "            return 1.0 * self.current_total / self.iterations\n",
    "\n",
    "    def reset(self):\n",
    "        self.current_total = 0.0\n",
    "        self.iterations = 0.0\n",
    "\n",
    "\n",
    "def collate_fn(batch):\n",
    "    img, label, image_id = zip(*batch)  # transposed\n",
    "    for i, l in enumerate(label):\n",
    "        l[:, 0] = i  # add target image index for build_targets()\n",
    "    return torch.stack(img, 0), torch.cat(label, 0), image_id"
   ]
  },
  {
   "cell_type": "markdown",
   "metadata": {
    "id": "Xct4igdImtZc"
   },
   "source": [
    "### Training"
   ]
  },
  {
   "cell_type": "code",
   "execution_count": null,
   "metadata": {
    "id": "nkJQuOv4mtZc"
   },
   "outputs": [],
   "source": [
    "def train_fn(num_epochs, train_data_loader, optimizer, model, device):\n",
    "    model.gr = 1.0\n",
    "    itr = 1\n",
    "    loss_hist = Averager()\n",
    "    compute_loss = ComputeLoss(model)\n",
    "    best_loss = 1000\n",
    "    for epoch in range(num_epochs):\n",
    "        loss_hist.reset()\n",
    "\n",
    "        for images, targets, image_ids in tqdm(train_data_loader):\n",
    "            images = torch.as_tensor([image.numpy() for image in images]).to(device)\n",
    "            pred = model(images)\n",
    "\n",
    "            losses, loss_items = compute_loss(\n",
    "                pred, targets.to(device)\n",
    "            )  # loss scaled by batch_size\n",
    "\n",
    "            loss_value = losses.item()\n",
    "\n",
    "            loss_hist.send(loss_value)\n",
    "\n",
    "            # backward\n",
    "            optimizer.zero_grad()\n",
    "            losses.backward()\n",
    "            optimizer.step()\n",
    "\n",
    "        print(f\"Epoch #{epoch} loss: {loss_hist.value}\")\n",
    "        if loss_hist.value < best_loss:\n",
    "            torch.save(model.state_dict(), f\"./yolov3/weights/yolov3.pth\")\n",
    "            best_loss = loss_hist.value"
   ]
  },
  {
   "cell_type": "markdown",
   "metadata": {
    "id": "vpX0ZVzsmtZd"
   },
   "source": [
    "### Main"
   ]
  },
  {
   "cell_type": "code",
   "execution_count": null,
   "metadata": {
    "id": "XatZVP2qmtZd"
   },
   "outputs": [],
   "source": [
    "def main():\n",
    "    data_dir = \"../../dataset\"\n",
    "    annotation = \"../../dataset/train.json\"\n",
    "    train_dataset = CustomDataset(annotation, data_dir, get_train_transform())\n",
    "\n",
    "    train_data_loader = DataLoader(\n",
    "        train_dataset, batch_size=8, shuffle=False, num_workers=4, collate_fn=collate_fn\n",
    "    )\n",
    "    device = torch.device(\"cuda\") if torch.cuda.is_available() else torch.device(\"cpu\")\n",
    "    print(device)\n",
    "    # load a model;\n",
    "\n",
    "    num_classes = 10\n",
    "    model = Model(cfg=\"./yolov3/models/yolov3.yaml\", ch=3, nc=num_classes)  # create\n",
    "\n",
    "    # get number of input features for the classifier\n",
    "    model.to(device)\n",
    "\n",
    "    # Hyperparameters\n",
    "    with open(\"./yolov3/data/hyps/hyp.scratch.yaml\") as f:\n",
    "        hyp = yaml.load(f, Loader=yaml.SafeLoader)  # load hyps\n",
    "    model.hyp = hyp\n",
    "    params = [p for p in model.parameters() if p.requires_grad]\n",
    "    optimizer = torch.optim.SGD(params, lr=0.005, momentum=0.9, weight_decay=0.0005)\n",
    "\n",
    "    num_epochs = 10\n",
    "\n",
    "    train_fn(num_epochs, train_data_loader, optimizer, model, device)"
   ]
  },
  {
   "cell_type": "code",
   "execution_count": null,
   "metadata": {
    "id": "0VAcfhINmtZe"
   },
   "outputs": [],
   "source": [
    "if __name__ == \"__main__\":\n",
    "    main()"
   ]
  },
  {
   "cell_type": "markdown",
   "metadata": {},
   "source": [
    "###**콘텐츠 라이선스**\n",
    "\n",
    "<font color='red'><b>**WARNING**</b></font> : **본 교육 콘텐츠의 지식재산권은 재단법인 네이버커넥트에 귀속됩니다. 본 콘텐츠를 어떠한 경로로든 외부로 유출 및 수정하는 행위를 엄격히 금합니다.** 다만, 비영리적 교육 및 연구활동에 한정되어 사용할 수 있으나 재단의 허락을 받아야 합니다. 이를 위반하는 경우, 관련 법률에 따라 책임을 질 수 있습니다.\n"
   ]
  }
 ],
 "metadata": {
  "colab": {
   "name": "(미션-5-심화) YOLO_V3.ipynb",
   "provenance": []
  },
  "kernelspec": {
   "display_name": "Python 3 (ipykernel)",
   "language": "python",
   "name": "python3"
  },
  "language_info": {
   "codemirror_mode": {
    "name": "ipython",
    "version": 3
   },
   "file_extension": ".py",
   "mimetype": "text/x-python",
   "name": "python",
   "nbconvert_exporter": "python",
   "pygments_lexer": "ipython3",
   "version": "3.7.13"
  }
 },
 "nbformat": 4,
 "nbformat_minor": 1
}
