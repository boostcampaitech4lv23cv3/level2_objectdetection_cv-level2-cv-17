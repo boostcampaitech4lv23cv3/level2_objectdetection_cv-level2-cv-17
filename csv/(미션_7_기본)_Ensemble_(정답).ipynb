{
  "cells": [
    {
      "cell_type": "code",
      "execution_count": 1,
      "metadata": {
        "id": "YOF-L81PUfGO"
      },
      "outputs": [],
      "source": [
        "import pandas as pd\n",
        "from ensemble_boxes import *\n",
        "import numpy as np\n",
        "from pycocotools.coco import COCO"
      ]
    },
    {
      "cell_type": "code",
      "execution_count": 14,
      "metadata": {
        "id": "z7g8Aa-dUfGP"
      },
      "outputs": [],
      "source": [
        "# ensemble csv files\n",
        "submission_files = ['/opt/ml/level2_objectdetection_cv-level2-cv-17/csv/filtered_swin_pseudo1.csv',\n",
        "                    '/opt/ml/level2_objectdetection_cv-level2-cv-17/csv/filtered_group0.csv',\n",
        "                    '/opt/ml/level2_objectdetection_cv-level2-cv-17/csv/filtered_group1.csv',\n",
        "                    '/opt/ml/level2_objectdetection_cv-level2-cv-17/csv/filtered_group2.csv',\n",
        "                    '/opt/ml/level2_objectdetection_cv-level2-cv-17/csv/filtered_group3.csv',\n",
        "                    '/opt/ml/level2_objectdetection_cv-level2-cv-17/csv/filtered_group4.csv',\n",
        "                    '/opt/ml/level2_objectdetection_cv-level2-cv-17/csv/filtered_swin_384.csv',\n",
        "                    '/opt/ml/level2_objectdetection_cv-level2-cv-17/csv/filtered_swin_mstrain.csv',\n",
        "                    ]\n",
        "submission_df = [pd.read_csv(file) for file in submission_files]"
      ]
    },
    {
      "cell_type": "code",
      "execution_count": 15,
      "metadata": {
        "id": "th9Pd5exUfGQ"
      },
      "outputs": [],
      "source": [
        "image_ids = submission_df[0]['image_id'].tolist()"
      ]
    },
    {
      "cell_type": "code",
      "execution_count": 16,
      "metadata": {
        "id": "jCv0Zkg_UfGR"
      },
      "outputs": [
        {
          "name": "stdout",
          "output_type": "stream",
          "text": [
            "loading annotations into memory...\n",
            "Done (t=0.01s)\n",
            "creating index...\n",
            "index created!\n"
          ]
        }
      ],
      "source": [
        "# ensemble 할 file의 image 정보를 불러오기 위한 json\n",
        "annotation = '/opt/ml/dataset/test.json'\n",
        "coco = COCO(annotation)"
      ]
    },
    {
      "cell_type": "code",
      "execution_count": 17,
      "metadata": {
        "id": "5kTUblmDUfGS"
      },
      "outputs": [],
      "source": [
        "prediction_strings = []\n",
        "file_names = []\n",
        "# ensemble 시 설정할 iou threshold 이 부분을 바꿔가며 대회 metric에 알맞게 적용해봐요!\n",
        "iou_thr = 0.6\n",
        "\n",
        "# 각 image id 별로 submission file에서 box좌표 추출\n",
        "for i, image_id in enumerate(image_ids):\n",
        "    prediction_string = ''\n",
        "    boxes_list = []\n",
        "    scores_list = []\n",
        "    labels_list = []\n",
        "    image_info = coco.loadImgs(i)[0]\n",
        "#     각 submission file 별로 prediction box좌표 불러오기\n",
        "    for df in submission_df:\n",
        "        predict_string = df[df['image_id'] == image_id]['PredictionString'].tolist()[0]\n",
        "        predict_list = str(predict_string).split()\n",
        "        \n",
        "        if len(predict_list)==0 or len(predict_list)==1:\n",
        "            continue\n",
        "            \n",
        "        predict_list = np.reshape(predict_list, (-1, 6))\n",
        "        box_list = []\n",
        "        \n",
        "        for box in predict_list[:, 2:6].tolist():\n",
        "            box[0] = float(box[0]) / image_info['width']\n",
        "            box[1] = float(box[1]) / image_info['height']\n",
        "            box[2] = float(box[2]) / image_info['width']\n",
        "            box[3] = float(box[3]) / image_info['height']\n",
        "            box_list.append(box)\n",
        "            \n",
        "        boxes_list.append(box_list)\n",
        "        scores_list.append(list(map(float, predict_list[:, 1].tolist())))\n",
        "        labels_list.append(list(map(int, predict_list[:, 0].tolist())))\n",
        "    \n",
        "#     예측 box가 있다면 이를 ensemble 수행\n",
        "    if len(boxes_list):\n",
        "        boxes, scores, labels = weighted_boxes_fusion(boxes_list, scores_list, labels_list, iou_thr=iou_thr)\n",
        "        for box, score, label in zip(boxes, scores, labels):\n",
        "            prediction_string += str(label) + ' ' + str(score) + ' ' + str(box[0] * image_info['width']) + ' ' + str(box[1] * image_info['height']) + ' ' + str(box[2] * image_info['width']) + ' ' + str(box[3] * image_info['height']) + ' '\n",
        "    \n",
        "    prediction_strings.append(prediction_string)\n",
        "    file_names.append(image_id)"
      ]
    },
    {
      "cell_type": "code",
      "execution_count": 18,
      "metadata": {
        "id": "k4R88y3uUfGT"
      },
      "outputs": [
        {
          "data": {
            "text/html": [
              "<div>\n",
              "<style scoped>\n",
              "    .dataframe tbody tr th:only-of-type {\n",
              "        vertical-align: middle;\n",
              "    }\n",
              "\n",
              "    .dataframe tbody tr th {\n",
              "        vertical-align: top;\n",
              "    }\n",
              "\n",
              "    .dataframe thead th {\n",
              "        text-align: right;\n",
              "    }\n",
              "</style>\n",
              "<table border=\"1\" class=\"dataframe\">\n",
              "  <thead>\n",
              "    <tr style=\"text-align: right;\">\n",
              "      <th></th>\n",
              "      <th>PredictionString</th>\n",
              "      <th>image_id</th>\n",
              "    </tr>\n",
              "  </thead>\n",
              "  <tbody>\n",
              "    <tr>\n",
              "      <th>0</th>\n",
              "      <td>7.0 0.9998800158500671 604.9989013671875 521.3...</td>\n",
              "      <td>test/0000.jpg</td>\n",
              "    </tr>\n",
              "    <tr>\n",
              "      <th>1</th>\n",
              "      <td>5.0 0.7429103255271912 130.83419799804688 0.15...</td>\n",
              "      <td>test/0001.jpg</td>\n",
              "    </tr>\n",
              "    <tr>\n",
              "      <th>2</th>\n",
              "      <td>1.0 0.9985870718955994 286.2143249511719 306.7...</td>\n",
              "      <td>test/0002.jpg</td>\n",
              "    </tr>\n",
              "    <tr>\n",
              "      <th>3</th>\n",
              "      <td>9.0 0.9098024368286133 105.2300033569336 196.7...</td>\n",
              "      <td>test/0003.jpg</td>\n",
              "    </tr>\n",
              "    <tr>\n",
              "      <th>4</th>\n",
              "      <td>1.0 0.8340150713920593 200.994384765625 258.41...</td>\n",
              "      <td>test/0004.jpg</td>\n",
              "    </tr>\n",
              "  </tbody>\n",
              "</table>\n",
              "</div>"
            ],
            "text/plain": [
              "                                    PredictionString       image_id\n",
              "0  7.0 0.9998800158500671 604.9989013671875 521.3...  test/0000.jpg\n",
              "1  5.0 0.7429103255271912 130.83419799804688 0.15...  test/0001.jpg\n",
              "2  1.0 0.9985870718955994 286.2143249511719 306.7...  test/0002.jpg\n",
              "3  9.0 0.9098024368286133 105.2300033569336 196.7...  test/0003.jpg\n",
              "4  1.0 0.8340150713920593 200.994384765625 258.41...  test/0004.jpg"
            ]
          },
          "execution_count": 18,
          "metadata": {},
          "output_type": "execute_result"
        }
      ],
      "source": [
        "submission = pd.DataFrame()\n",
        "submission['PredictionString'] = prediction_strings\n",
        "submission['image_id'] = file_names\n",
        "submission.to_csv('/opt/ml/level2_objectdetection_cv-level2-cv-17/preprocessed_swin_ensemble.csv')\n",
        "\n",
        "submission.head()"
      ]
    },
    {
      "cell_type": "markdown",
      "metadata": {
        "id": "uq4STiNbUfGU"
      },
      "source": [
        "###**콘텐츠 라이선스**\n",
        "\n",
        "<font color='red'><b>**WARNING**</b></font> : **본 교육 콘텐츠의 지식재산권은 재단법인 네이버커넥트에 귀속됩니다. 본 콘텐츠를 어떠한 경로로든 외부로 유출 및 수정하는 행위를 엄격히 금합니다.** 다만, 비영리적 교육 및 연구활동에 한정되어 사용할 수 있으나 재단의 허락을 받아야 합니다. 이를 위반하는 경우, 관련 법률에 따라 책임을 질 수 있습니다.\n"
      ]
    }
  ],
  "metadata": {
    "colab": {
      "provenance": []
    },
    "kernelspec": {
      "display_name": "detection",
      "language": "python",
      "name": "detection"
    },
    "language_info": {
      "codemirror_mode": {
        "name": "ipython",
        "version": 3
      },
      "file_extension": ".py",
      "mimetype": "text/x-python",
      "name": "python",
      "nbconvert_exporter": "python",
      "pygments_lexer": "ipython3",
      "version": "3.7.15"
    },
    "vscode": {
      "interpreter": {
        "hash": "31f2aee4e71d21fbe5cf8b01ff0e069b9275f58929596ceb00d14d90e3e16cd6"
      }
    }
  },
  "nbformat": 4,
  "nbformat_minor": 0
}
