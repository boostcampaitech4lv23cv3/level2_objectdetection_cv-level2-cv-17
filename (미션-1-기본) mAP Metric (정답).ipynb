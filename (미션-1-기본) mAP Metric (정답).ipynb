{
 "cells": [
  {
   "cell_type": "code",
   "execution_count": 1,
   "id": "8425d721",
   "metadata": {
    "id": "8425d721"
   },
   "outputs": [
    {
     "name": "stdout",
     "output_type": "stream",
     "text": [
      "Requirement already satisfied: map_boxes in /root/anaconda3/envs/rcnn/lib/python3.7/site-packages (1.0.5)\n",
      "Requirement already satisfied: pandas in /root/anaconda3/envs/rcnn/lib/python3.7/site-packages (from map_boxes) (1.3.5)\n",
      "Requirement already satisfied: numpy in /root/anaconda3/envs/rcnn/lib/python3.7/site-packages (from map_boxes) (1.21.2)\n",
      "Requirement already satisfied: python-dateutil>=2.7.3 in /root/anaconda3/envs/rcnn/lib/python3.7/site-packages (from pandas->map_boxes) (2.8.2)\n",
      "Requirement already satisfied: pytz>=2017.3 in /root/anaconda3/envs/rcnn/lib/python3.7/site-packages (from pandas->map_boxes) (2021.3)\n",
      "Requirement already satisfied: six>=1.5 in /root/anaconda3/envs/rcnn/lib/python3.7/site-packages (from python-dateutil>=2.7.3->pandas->map_boxes) (1.16.0)\n",
      "\u001b[33mWARNING: Running pip as the 'root' user can result in broken permissions and conflicting behaviour with the system package manager. It is recommended to use a virtual environment instead: https://pip.pypa.io/warnings/venv\u001b[0m\n",
      "Requirement already satisfied: tqdm in /root/anaconda3/envs/rcnn/lib/python3.7/site-packages (4.63.0)\n",
      "\u001b[33mWARNING: Running pip as the 'root' user can result in broken permissions and conflicting behaviour with the system package manager. It is recommended to use a virtual environment instead: https://pip.pypa.io/warnings/venv\u001b[0m\n",
      "Requirement already satisfied: pycocotools in /root/anaconda3/envs/rcnn/lib/python3.7/site-packages (2.0.4)\n",
      "Requirement already satisfied: matplotlib>=2.1.0 in /root/anaconda3/envs/rcnn/lib/python3.7/site-packages (from pycocotools) (3.5.1)\n",
      "Requirement already satisfied: numpy in /root/anaconda3/envs/rcnn/lib/python3.7/site-packages (from pycocotools) (1.21.2)\n",
      "Requirement already satisfied: kiwisolver>=1.0.1 in /root/anaconda3/envs/rcnn/lib/python3.7/site-packages (from matplotlib>=2.1.0->pycocotools) (1.3.2)\n",
      "Requirement already satisfied: python-dateutil>=2.7 in /root/anaconda3/envs/rcnn/lib/python3.7/site-packages (from matplotlib>=2.1.0->pycocotools) (2.8.2)\n",
      "Requirement already satisfied: fonttools>=4.22.0 in /root/anaconda3/envs/rcnn/lib/python3.7/site-packages (from matplotlib>=2.1.0->pycocotools) (4.29.1)\n",
      "Requirement already satisfied: packaging>=20.0 in /root/anaconda3/envs/rcnn/lib/python3.7/site-packages (from matplotlib>=2.1.0->pycocotools) (21.3)\n",
      "Requirement already satisfied: pillow>=6.2.0 in /root/anaconda3/envs/rcnn/lib/python3.7/site-packages (from matplotlib>=2.1.0->pycocotools) (9.0.1)\n",
      "Requirement already satisfied: cycler>=0.10 in /root/anaconda3/envs/rcnn/lib/python3.7/site-packages (from matplotlib>=2.1.0->pycocotools) (0.11.0)\n",
      "Requirement already satisfied: pyparsing>=2.2.1 in /root/anaconda3/envs/rcnn/lib/python3.7/site-packages (from matplotlib>=2.1.0->pycocotools) (3.0.7)\n",
      "Requirement already satisfied: six>=1.5 in /root/anaconda3/envs/rcnn/lib/python3.7/site-packages (from python-dateutil>=2.7->matplotlib>=2.1.0->pycocotools) (1.16.0)\n",
      "\u001b[33mWARNING: Running pip as the 'root' user can result in broken permissions and conflicting behaviour with the system package manager. It is recommended to use a virtual environment instead: https://pip.pypa.io/warnings/venv\u001b[0m\n"
     ]
    }
   ],
   "source": [
    "!pip install map_boxes\n",
    "!pip install tqdm\n",
    "!pip install pycocotools"
   ]
  },
  {
   "cell_type": "code",
   "execution_count": 2,
   "id": "b64e3bb0",
   "metadata": {
    "id": "b64e3bb0"
   },
   "outputs": [
    {
     "name": "stdout",
     "output_type": "stream",
     "text": [
      "Couldn't import fast version of function compute_overlap, will use slow one. Check cython intallation\n"
     ]
    }
   ],
   "source": [
    "from map_boxes import mean_average_precision_for_boxes\n",
    "import pandas as pd\n",
    "import numpy as np\n",
    "import json\n",
    "from tqdm import tqdm\n",
    "from pycocotools.coco import COCO"
   ]
  },
  {
   "cell_type": "code",
   "execution_count": 3,
   "id": "83d36147",
   "metadata": {
    "id": "83d36147"
   },
   "outputs": [],
   "source": [
    "\"\"\"\n",
    "    GT_JSON: valid set json file path\n",
    "    현재 예시에서는 train.json을 임의로 valid set으로 사용\n",
    "    PRED_CSV: 위의 valid set을 inference한 submission file\n",
    "    Tip: validation json을 만들어서 validation set의 model의 결과를 추출하고 이의 mAP를 계산해보아요.\n",
    "\"\"\"\n",
    "GT_JSON = \"../../dataset/train.json\"\n",
    "PRED_CSV = \"../../sample_submission/train_sample.csv\"\n",
    "LABEL_NAME = [\n",
    "    \"General trash\",\n",
    "    \"Paper\",\n",
    "    \"Paper pack\",\n",
    "    \"Metal\",\n",
    "    \"Glass\",\n",
    "    \"Plastic\",\n",
    "    \"Styrofoam\",\n",
    "    \"Plastic bag\",\n",
    "    \"Battery\",\n",
    "    \"Clothing\",\n",
    "]\n",
    "\n",
    "\n",
    "# load ground truth\n",
    "with open(GT_JSON, \"r\") as outfile:\n",
    "    test_anno = json.load(outfile)\n",
    "\n",
    "# load prediction\n",
    "pred_df = pd.read_csv(PRED_CSV)"
   ]
  },
  {
   "cell_type": "code",
   "execution_count": 4,
   "id": "9afc18a0",
   "metadata": {
    "id": "9afc18a0"
   },
   "outputs": [
    {
     "name": "stderr",
     "output_type": "stream",
     "text": [
      "4883it [00:01, 4741.87it/s]\n"
     ]
    }
   ],
   "source": [
    "\"\"\"\n",
    "[\n",
    "    [file_name label_index confidence_score x_min x_max y_min y_max], \n",
    "    [file_name label_index confidence_score x_min x_max y_min y_max],\n",
    "    ,,,\n",
    "    [file_name label_index confidence_score x_min x_max y_min y_max]\n",
    "]\n",
    "\n",
    "아래의 mean_average_precision_for_boxes 함수에 들어갈 양식, new_pred 양식\n",
    "\"\"\"\n",
    "\n",
    "new_pred = []\n",
    "\n",
    "file_names = pred_df[\"image_id\"].values.tolist()\n",
    "bboxes = pred_df[\"PredictionString\"].values.tolist()\n",
    "\n",
    "\"\"\"\n",
    "create new_pred\n",
    "\"\"\"\n",
    "\n",
    "for i, bbox in enumerate(bboxes):\n",
    "    if isinstance(bbox, float):\n",
    "        print(f\"{file_names[i]} empty box\")\n",
    "\n",
    "for file_name, bbox in tqdm(zip(file_names, bboxes)):\n",
    "    boxes = np.array(str(bbox).split(\" \"))\n",
    "\n",
    "    if len(boxes) % 6 == 1:\n",
    "        boxes = boxes[:-1].reshape(-1, 6)\n",
    "    elif len(boxes) % 6 == 0:\n",
    "        boxes = boxes.reshape(-1, 6)\n",
    "    else:\n",
    "        raise Exception(\"error\", \"invalid box count\")\n",
    "    for box in boxes:\n",
    "        new_pred.append(\n",
    "            [\n",
    "                file_name,\n",
    "                box[0],\n",
    "                box[1],\n",
    "                float(box[2]),\n",
    "                float(box[4]),\n",
    "                float(box[3]),\n",
    "                float(box[5]),\n",
    "            ]\n",
    "        )"
   ]
  },
  {
   "cell_type": "code",
   "execution_count": 5,
   "id": "1804b52e",
   "metadata": {
    "id": "1804b52e"
   },
   "outputs": [
    {
     "name": "stdout",
     "output_type": "stream",
     "text": [
      "loading annotations into memory...\n",
      "Done (t=0.16s)\n",
      "creating index...\n",
      "index created!\n"
     ]
    }
   ],
   "source": [
    "\"\"\"\n",
    "[\n",
    "    [file_name 1, confidence_score, x_min, x_max, y_min, y_max], \n",
    "    [file_name 2, confidence_score, x_min, x_max, y_min, y_max],\n",
    "    ,,,\n",
    "    [file_name , confidence_score, x_min, x_max, y_min, y_max]\n",
    "]\n",
    "\n",
    "아래의 mean_average_precision_for_boxes 함수에 들어갈 양식, gt 양식\n",
    "\"\"\"\n",
    "\n",
    "gt = []\n",
    "\n",
    "\"\"\"\n",
    "create gt\n",
    "\"\"\"\n",
    "\n",
    "coco = COCO(GT_JSON)\n",
    "\n",
    "\"\"\"\n",
    "coco.getImgIds(): return image id list\n",
    "    \n",
    "coco.loadImgs(image_id): return image_info\n",
    "    \n",
    "image_info['file_name']: return file name\n",
    "   \n",
    "coco.getAnnIds(imgIds=image_info['id']): return annotation id\n",
    "    \n",
    "coco.loadAnns(ann_ids): return annotation information list (annotation_info_list)\n",
    "    \n",
    "annotation_info_list[i]['bbox']: return i'th annotation [x_min, y_min, w, h]\n",
    "    \n",
    "annotation_info_list[i]['category_id']: return i'th annotation category\n",
    "    \n",
    "\"\"\"\n",
    "\"\"\"\n",
    "image id 별로 GT 값 추가 (여기서는 test.json을 사용하였기 때문에 GT가 없습니다.)\n",
    "\"\"\"\n",
    "for image_id in coco.getImgIds():\n",
    "\n",
    "    image_info = coco.loadImgs(image_id)[0]\n",
    "    annotation_id = coco.getAnnIds(imgIds=image_info[\"id\"])\n",
    "    annotation_info_list = coco.loadAnns(annotation_id)\n",
    "\n",
    "    file_name = image_info[\"file_name\"]\n",
    "\n",
    "    for annotation in annotation_info_list:\n",
    "        gt.append(\n",
    "            [\n",
    "                file_name,\n",
    "                annotation[\"category_id\"],\n",
    "                float(annotation[\"bbox\"][0]),\n",
    "                float(annotation[\"bbox\"][0]) + float(annotation[\"bbox\"][2]),\n",
    "                float(annotation[\"bbox\"][1]),\n",
    "                (float(annotation[\"bbox\"][1]) + float(annotation[\"bbox\"][3])),\n",
    "            ]\n",
    "        )"
   ]
  },
  {
   "cell_type": "code",
   "execution_count": 6,
   "id": "83194763",
   "metadata": {
    "id": "83194763"
   },
   "outputs": [
    {
     "name": "stdout",
     "output_type": "stream",
     "text": [
      "Number of files in annotations: 4883\n",
      "Number of files in predictions: 4883\n",
      "Unique classes: 10\n",
      "Detections length: 4883\n",
      "Annotations length: 4883\n",
      "0                              | 0.264624 |    3966\n",
      "1                              | 0.522890 |    6352\n",
      "2                              | 0.441265 |     897\n",
      "3                              | 0.411529 |     936\n",
      "4                              | 0.604017 |     982\n",
      "5                              | 0.397688 |    2943\n",
      "6                              | 0.490678 |    1263\n",
      "7                              | 0.722987 |    5178\n",
      "8                              | 0.599785 |     159\n",
      "9                              | 0.531735 |     468\n",
      "mAP: 0.498720\n",
      "0.49871974228579613\n"
     ]
    }
   ],
   "source": [
    "\"\"\"\n",
    "calculate mAP\n",
    "\"\"\"\n",
    "\n",
    "\n",
    "mean_ap, average_precisions = mean_average_precision_for_boxes(\n",
    "    gt, new_pred, iou_threshold=0.5\n",
    ")\n",
    "\n",
    "print(mean_ap)"
   ]
  }
 ],
 "metadata": {
  "colab": {
   "collapsed_sections": [],
   "name": "metric.ipynb",
   "provenance": []
  },
  "kernelspec": {
   "display_name": "Python 3 (ipykernel)",
   "language": "python",
   "name": "python3"
  },
  "language_info": {
   "codemirror_mode": {
    "name": "ipython",
    "version": 3
   },
   "file_extension": ".py",
   "mimetype": "text/x-python",
   "name": "python",
   "nbconvert_exporter": "python",
   "pygments_lexer": "ipython3",
   "version": "3.7.11"
  }
 },
 "nbformat": 4,
 "nbformat_minor": 5
}
