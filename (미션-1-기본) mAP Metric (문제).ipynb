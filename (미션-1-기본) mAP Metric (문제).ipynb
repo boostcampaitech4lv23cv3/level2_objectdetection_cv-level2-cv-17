{
 "cells": [
  {
   "cell_type": "code",
   "execution_count": null,
   "id": "2f5bc891",
   "metadata": {
    "id": "2f5bc891"
   },
   "outputs": [],
   "source": [
    "!pip install map_boxes\n",
    "!pip install tqdm\n",
    "!pip install pycocotools"
   ]
  },
  {
   "cell_type": "code",
   "execution_count": null,
   "id": "8377b5e0",
   "metadata": {
    "id": "8377b5e0"
   },
   "outputs": [],
   "source": [
    "from map_boxes import mean_average_precision_for_boxes\n",
    "import pandas as pd\n",
    "import numpy as np\n",
    "import json\n",
    "from tqdm import tqdm\n",
    "from pycocotools.coco import COCO"
   ]
  },
  {
   "cell_type": "code",
   "execution_count": null,
   "id": "bb2a5373",
   "metadata": {
    "id": "bb2a5373"
   },
   "outputs": [],
   "source": [
    "\"\"\"\n",
    "    GT_JSON: valid set json file path\n",
    "    현재 예시에서는 train.json을 임의로 valid set으로 사용\n",
    "    PRED_CSV: 위의 valid set을 inference한 submission file\n",
    "    Tip: validation json을 만들어서 validation set의 model의 결과를 추출하고 이의 mAP를 계산해보아요.\n",
    "\"\"\"\n",
    "GT_JSON = \"../../dataset/train.json\"\n",
    "PRED_CSV = \"../../sample_submission/train_sample.csv\"\n",
    "LABEL_NAME = [\n",
    "    \"General trash\",\n",
    "    \"Paper\",\n",
    "    \"Paper pack\",\n",
    "    \"Metal\",\n",
    "    \"Glass\",\n",
    "    \"Plastic\",\n",
    "    \"Styrofoam\",\n",
    "    \"Plastic bag\",\n",
    "    \"Battery\",\n",
    "    \"Clothing\",\n",
    "]\n",
    "\n",
    "\n",
    "# load ground truth\n",
    "with open(GT_JSON, \"r\") as outfile:\n",
    "    test_anno = json.load(outfile)\n",
    "\n",
    "# load prediction\n",
    "pred_df = pd.read_csv(PRED_CSV)"
   ]
  },
  {
   "cell_type": "code",
   "execution_count": null,
   "id": "52abebcc",
   "metadata": {
    "id": "52abebcc"
   },
   "outputs": [],
   "source": [
    "\"\"\"\n",
    "[\n",
    "    [file_name label_index confidence_score x_min x_max y_min y_max], \n",
    "    [file_name label_index confidence_score x_min x_max y_min y_max],\n",
    "    ,,,\n",
    "    [file_name label_index confidence_score x_min x_max y_min y_max]\n",
    "]\n",
    "\n",
    "아래의 mean_average_precision_for_boxes 함수에 들어갈 양식, new_pred 양식\n",
    "\"\"\"\n",
    "\n",
    "new_pred = []\n",
    "\n",
    "file_names = pred_df[\"image_id\"].values.tolist()\n",
    "bboxes = pred_df[\"PredictionString\"].values.tolist()\n",
    "\n",
    "\"\"\"\n",
    "TODO create new_pred\n",
    "위의 양식에 맞게 submission csv를 가공\n",
    "\"\"\""
   ]
  },
  {
   "cell_type": "code",
   "execution_count": null,
   "id": "f5fa6ff0",
   "metadata": {
    "id": "f5fa6ff0"
   },
   "outputs": [],
   "source": [
    "\"\"\"\n",
    "[\n",
    "    [file_name 1, confidence_score, x_min, x_max, y_min, y_max], \n",
    "    [file_name 2, confidence_score, x_min, x_max, y_min, y_max],\n",
    "    ,,,\n",
    "    [file_name , confidence_score, x_min, x_max, y_min, y_max]\n",
    "]\n",
    "\n",
    "아래의 mean_average_precision_for_boxes 함수에 들어갈 양식, gt 양식\n",
    "\"\"\"\n",
    "\n",
    "gt = []\n",
    "\n",
    "\n",
    "\"\"\"\n",
    "coco.getImgIds(): return image id list\n",
    "    \n",
    "coco.loadImgs(image_id): return image_info\n",
    "    \n",
    "image_info['file_name']: return file name\n",
    "   \n",
    "coco.getAnnIds(imgIds=image_info['id']): return annotation id\n",
    "    \n",
    "coco.loadAnns(ann_ids): return annotation information list (annotation_info_list)\n",
    "    \n",
    "annotation_info_list[i]['bbox']: return i'th annotation [x_min, y_min, w, h]\n",
    "    \n",
    "annotation_info_list[i]['category_id']: return i'th annotation category\n",
    "    \n",
    "\"\"\"\n",
    "coco = COCO(GT_JSON)\n",
    "\n",
    "\"\"\"\n",
    "TODO create gt\n",
    "gt를 cocoapi를 활용하여 위의 양식으로 가공\n",
    "참고: https://github.com/cocodataset/cocoapi\n",
    "\"\"\""
   ]
  },
  {
   "cell_type": "code",
   "execution_count": null,
   "id": "8707b613",
   "metadata": {
    "id": "8707b613"
   },
   "outputs": [],
   "source": [
    "\"\"\"\n",
    "calculate mAP\n",
    "\"\"\"\n",
    "\n",
    "\"\"\"\n",
    "Special mission you sould create mean_average_precision_for_boxes function, not library\n",
    "\"\"\"\n",
    "\n",
    "mean_ap, average_precisions = mean_average_precision_for_boxes(\n",
    "    gt, new_pred, iou_threshold=0.5\n",
    ")\n",
    "\n",
    "print(mean_ap)"
   ]
  },
  {
   "cell_type": "code",
   "execution_count": null,
   "id": "7e9874e6",
   "metadata": {
    "id": "7e9874e6"
   },
   "outputs": [],
   "source": []
  }
 ],
 "metadata": {
  "colab": {
   "collapsed_sections": [],
   "name": "metric_skeleton.ipynb",
   "provenance": []
  },
  "kernelspec": {
   "display_name": "Python 3 (ipykernel)",
   "language": "python",
   "name": "python3"
  },
  "language_info": {
   "codemirror_mode": {
    "name": "ipython",
    "version": 3
   },
   "file_extension": ".py",
   "mimetype": "text/x-python",
   "name": "python",
   "nbconvert_exporter": "python",
   "pygments_lexer": "ipython3",
   "version": "3.7.11"
  }
 },
 "nbformat": 4,
 "nbformat_minor": 5
}
