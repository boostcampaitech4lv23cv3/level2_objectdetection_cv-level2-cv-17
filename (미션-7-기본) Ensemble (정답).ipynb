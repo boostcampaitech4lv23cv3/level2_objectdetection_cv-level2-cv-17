{
 "cells": [
  {
   "cell_type": "code",
   "execution_count": null,
   "metadata": {},
   "outputs": [],
   "source": [
    "!pip install ensemble_boxes"
   ]
  },
  {
   "cell_type": "code",
   "execution_count": null,
   "metadata": {},
   "outputs": [],
   "source": [
    "import pandas as pd\n",
    "from ensemble_boxes import *\n",
    "import numpy as np\n",
    "from pycocotools.coco import COCO"
   ]
  },
  {
   "cell_type": "code",
   "execution_count": null,
   "metadata": {},
   "outputs": [],
   "source": [
    "# ensemble csv files\n",
    "submission_files = [\n",
    "    \"../../sample_submission/faster_rcnn_torchvision_submission.csv\",\n",
    "    \"../../sample_submission/faster_rcnn_mmdetection_submission.csv\",\n",
    "]\n",
    "submission_df = [pd.read_csv(file) for file in submission_files]"
   ]
  },
  {
   "cell_type": "code",
   "execution_count": null,
   "metadata": {},
   "outputs": [],
   "source": [
    "image_ids = submission_df[0][\"image_id\"].tolist()"
   ]
  },
  {
   "cell_type": "code",
   "execution_count": null,
   "metadata": {},
   "outputs": [],
   "source": [
    "# ensemble 할 file의 image 정보를 불러오기 위한 json\n",
    "annotation = \"../../dataset/test.json\"\n",
    "coco = COCO(annotation)"
   ]
  },
  {
   "cell_type": "code",
   "execution_count": null,
   "metadata": {},
   "outputs": [],
   "source": [
    "prediction_strings = []\n",
    "file_names = []\n",
    "# ensemble 시 설정할 iou threshold 이 부분을 바꿔가며 대회 metric에 알맞게 적용해봐요!\n",
    "iou_thr = 0.4\n",
    "\n",
    "# 각 image id 별로 submission file에서 box좌표 추출\n",
    "for i, image_id in enumerate(image_ids):\n",
    "    prediction_string = \"\"\n",
    "    boxes_list = []\n",
    "    scores_list = []\n",
    "    labels_list = []\n",
    "    image_info = coco.loadImgs(i)[0]\n",
    "    #     각 submission file 별로 prediction box좌표 불러오기\n",
    "    for df in submission_df:\n",
    "        predict_string = df[df[\"image_id\"] == image_id][\"PredictionString\"].tolist()[0]\n",
    "        predict_list = str(predict_string).split()\n",
    "\n",
    "        if len(predict_list) == 0 or len(predict_list) == 1:\n",
    "            continue\n",
    "\n",
    "        predict_list = np.reshape(predict_list, (-1, 6))\n",
    "        box_list = []\n",
    "\n",
    "        for box in predict_list[:, 2:6].tolist():\n",
    "            box[0] = float(box[0]) / image_info[\"width\"]\n",
    "            box[1] = float(box[1]) / image_info[\"height\"]\n",
    "            box[2] = float(box[2]) / image_info[\"width\"]\n",
    "            box[3] = float(box[3]) / image_info[\"height\"]\n",
    "            box_list.append(box)\n",
    "\n",
    "        boxes_list.append(box_list)\n",
    "        scores_list.append(list(map(float, predict_list[:, 1].tolist())))\n",
    "        labels_list.append(list(map(int, predict_list[:, 0].tolist())))\n",
    "\n",
    "    #     예측 box가 있다면 이를 ensemble 수행\n",
    "    if len(boxes_list):\n",
    "        boxes, scores, labels = nms(\n",
    "            boxes_list, scores_list, labels_list, iou_thr=iou_thr\n",
    "        )\n",
    "        for box, score, label in zip(boxes, scores, labels):\n",
    "            prediction_string += (\n",
    "                str(label)\n",
    "                + \" \"\n",
    "                + str(score)\n",
    "                + \" \"\n",
    "                + str(box[0] * image_info[\"width\"])\n",
    "                + \" \"\n",
    "                + str(box[1] * image_info[\"height\"])\n",
    "                + \" \"\n",
    "                + str(box[2] * image_info[\"width\"])\n",
    "                + \" \"\n",
    "                + str(box[3] * image_info[\"height\"])\n",
    "                + \" \"\n",
    "            )\n",
    "\n",
    "    prediction_strings.append(prediction_string)\n",
    "    file_names.append(image_id)"
   ]
  },
  {
   "cell_type": "code",
   "execution_count": null,
   "metadata": {},
   "outputs": [],
   "source": [
    "submission = pd.DataFrame()\n",
    "submission[\"PredictionString\"] = prediction_strings\n",
    "submission[\"image_id\"] = file_names\n",
    "submission.to_csv(\"../../sample_submission/submission_ensemble.csv\")\n",
    "\n",
    "submission.head()"
   ]
  },
  {
   "cell_type": "markdown",
   "metadata": {},
   "source": [
    "###**콘텐츠 라이선스**\n",
    "\n",
    "<font color='red'><b>**WARNING**</b></font> : **본 교육 콘텐츠의 지식재산권은 재단법인 네이버커넥트에 귀속됩니다. 본 콘텐츠를 어떠한 경로로든 외부로 유출 및 수정하는 행위를 엄격히 금합니다.** 다만, 비영리적 교육 및 연구활동에 한정되어 사용할 수 있으나 재단의 허락을 받아야 합니다. 이를 위반하는 경우, 관련 법률에 따라 책임을 질 수 있습니다.\n"
   ]
  }
 ],
 "metadata": {
  "kernelspec": {
   "display_name": "Python 3 (ipykernel)",
   "language": "python",
   "name": "python3"
  },
  "language_info": {
   "codemirror_mode": {
    "name": "ipython",
    "version": 3
   },
   "file_extension": ".py",
   "mimetype": "text/x-python",
   "name": "python",
   "nbconvert_exporter": "python",
   "pygments_lexer": "ipython3",
   "version": "3.7.13"
  }
 },
 "nbformat": 4,
 "nbformat_minor": 4
}
